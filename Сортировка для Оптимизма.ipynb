{
 "cells": [
  {
   "cell_type": "code",
   "execution_count": 578,
   "metadata": {},
   "outputs": [],
   "source": [
    "import pandas as pd\n",
    "from time import time"
   ]
  },
  {
   "cell_type": "code",
   "execution_count": 541,
   "metadata": {},
   "outputs": [],
   "source": [
    "data = ['Rus','mos',1]\n",
    "data2 = ['Rus','ryaz',2]\n",
    "data3 = ['Rus','kaz',3]\n",
    "data4 = ['Rus','vlad',4]\n",
    "data5 = ['usa','NY',5]\n",
    "data6 = ['usa','Vash',4]\n",
    "data7 = ['usa','Bruc',1]\n",
    "data8 = ['usa','alab',8]"
   ]
  },
  {
   "cell_type": "code",
   "execution_count": 476,
   "metadata": {},
   "outputs": [],
   "source": [
    "#Первый способ сортировки\n",
    "df = pd.DataFrame(data = [data,data2,data3,data4,data5,data6,data7,data8],columns=['contry','city','pop'])\n",
    "df = df.sort_values(by = ['contry', 'pop'], ascending = [True, False])"
   ]
  },
  {
   "cell_type": "code",
   "execution_count": 393,
   "metadata": {},
   "outputs": [
    {
     "data": {
      "text/html": [
       "<div>\n",
       "<style scoped>\n",
       "    .dataframe tbody tr th:only-of-type {\n",
       "        vertical-align: middle;\n",
       "    }\n",
       "\n",
       "    .dataframe tbody tr th {\n",
       "        vertical-align: top;\n",
       "    }\n",
       "\n",
       "    .dataframe thead th {\n",
       "        text-align: right;\n",
       "    }\n",
       "</style>\n",
       "<table border=\"1\" class=\"dataframe\">\n",
       "  <thead>\n",
       "    <tr style=\"text-align: right;\">\n",
       "      <th></th>\n",
       "      <th>contry</th>\n",
       "      <th>city</th>\n",
       "      <th>pop</th>\n",
       "    </tr>\n",
       "  </thead>\n",
       "  <tbody>\n",
       "    <tr>\n",
       "      <td>3</td>\n",
       "      <td>Rus</td>\n",
       "      <td>vlad</td>\n",
       "      <td>4</td>\n",
       "    </tr>\n",
       "    <tr>\n",
       "      <td>2</td>\n",
       "      <td>Rus</td>\n",
       "      <td>kaz</td>\n",
       "      <td>3</td>\n",
       "    </tr>\n",
       "    <tr>\n",
       "      <td>1</td>\n",
       "      <td>Rus</td>\n",
       "      <td>ryaz</td>\n",
       "      <td>2</td>\n",
       "    </tr>\n",
       "    <tr>\n",
       "      <td>0</td>\n",
       "      <td>Rus</td>\n",
       "      <td>mos</td>\n",
       "      <td>1</td>\n",
       "    </tr>\n",
       "    <tr>\n",
       "      <td>7</td>\n",
       "      <td>usa</td>\n",
       "      <td>alab</td>\n",
       "      <td>8</td>\n",
       "    </tr>\n",
       "    <tr>\n",
       "      <td>4</td>\n",
       "      <td>usa</td>\n",
       "      <td>NY</td>\n",
       "      <td>5</td>\n",
       "    </tr>\n",
       "    <tr>\n",
       "      <td>5</td>\n",
       "      <td>usa</td>\n",
       "      <td>Vash</td>\n",
       "      <td>4</td>\n",
       "    </tr>\n",
       "    <tr>\n",
       "      <td>6</td>\n",
       "      <td>usa</td>\n",
       "      <td>Bruc</td>\n",
       "      <td>1</td>\n",
       "    </tr>\n",
       "  </tbody>\n",
       "</table>\n",
       "</div>"
      ],
      "text/plain": [
       "  contry  city  pop\n",
       "3    Rus  vlad    4\n",
       "2    Rus   kaz    3\n",
       "1    Rus  ryaz    2\n",
       "0    Rus   mos    1\n",
       "7    usa  alab    8\n",
       "4    usa    NY    5\n",
       "5    usa  Vash    4\n",
       "6    usa  Bruc    1"
      ]
     },
     "execution_count": 393,
     "metadata": {},
     "output_type": "execute_result"
    }
   ],
   "source": [
    "df"
   ]
  },
  {
   "cell_type": "code",
   "execution_count": 542,
   "metadata": {},
   "outputs": [],
   "source": [
    "#Второй споcоб сортировки в принципе ничем от первого не отличается, только страна потом засовывается в индекс,\n",
    "#а в первoм можно попробовать делать срезы как я это реализовал в валс файле\n",
    "df = pd.DataFrame(data = [data,data2,data3,data4,data5,data6,data7,data8],columns=['contry','city','pop'])\n",
    "columns = pd.unique(df['contry'])\n",
    "df = df.set_index(['contry'])\n",
    "df = df.sort_values(by = ['contry','pop'],ascending = [True,False])"
   ]
  },
  {
   "cell_type": "code",
   "execution_count": 577,
   "metadata": {},
   "outputs": [
    {
     "name": "stdout",
     "output_type": "stream",
     "text": [
      "0.0019986629486083984\n"
     ]
    }
   ],
   "source": [
    "tic = time()\n",
    "s=[]\n",
    "for _ in contry:\n",
    "    x=df.loc[_][:3]\n",
    "    s.append(x)\n",
    "result = pd.concat(s)\n",
    "toc = time()\n",
    "print(toc - tic)\n",
    "#Данный цикл получает первые три самых крупных города у каждой страны и объединяет это всё в датафрейм"
   ]
  },
  {
   "cell_type": "code",
   "execution_count": 576,
   "metadata": {},
   "outputs": [
    {
     "name": "stdout",
     "output_type": "stream",
     "text": [
      "0.0009987354278564453\n"
     ]
    }
   ],
   "source": [
    "tic = time()\n",
    "s=[df.loc[i][:3] for i in contry]\n",
    "toc = time()\n",
    "print(toc - tic)\n",
    "#генератор работает быстрее"
   ]
  },
  {
   "cell_type": "code",
   "execution_count": 579,
   "metadata": {},
   "outputs": [
    {
     "data": {
      "text/html": [
       "<div>\n",
       "<style scoped>\n",
       "    .dataframe tbody tr th:only-of-type {\n",
       "        vertical-align: middle;\n",
       "    }\n",
       "\n",
       "    .dataframe tbody tr th {\n",
       "        vertical-align: top;\n",
       "    }\n",
       "\n",
       "    .dataframe thead th {\n",
       "        text-align: right;\n",
       "    }\n",
       "</style>\n",
       "<table border=\"1\" class=\"dataframe\">\n",
       "  <thead>\n",
       "    <tr style=\"text-align: right;\">\n",
       "      <th></th>\n",
       "      <th>city</th>\n",
       "      <th>pop</th>\n",
       "    </tr>\n",
       "    <tr>\n",
       "      <th>contry</th>\n",
       "      <th></th>\n",
       "      <th></th>\n",
       "    </tr>\n",
       "  </thead>\n",
       "  <tbody>\n",
       "    <tr>\n",
       "      <td>Rus</td>\n",
       "      <td>vlad</td>\n",
       "      <td>4</td>\n",
       "    </tr>\n",
       "    <tr>\n",
       "      <td>Rus</td>\n",
       "      <td>kaz</td>\n",
       "      <td>3</td>\n",
       "    </tr>\n",
       "    <tr>\n",
       "      <td>Rus</td>\n",
       "      <td>ryaz</td>\n",
       "      <td>2</td>\n",
       "    </tr>\n",
       "    <tr>\n",
       "      <td>usa</td>\n",
       "      <td>alab</td>\n",
       "      <td>8</td>\n",
       "    </tr>\n",
       "    <tr>\n",
       "      <td>usa</td>\n",
       "      <td>NY</td>\n",
       "      <td>5</td>\n",
       "    </tr>\n",
       "    <tr>\n",
       "      <td>usa</td>\n",
       "      <td>Vash</td>\n",
       "      <td>4</td>\n",
       "    </tr>\n",
       "  </tbody>\n",
       "</table>\n",
       "</div>"
      ],
      "text/plain": [
       "        city  pop\n",
       "contry           \n",
       "Rus     vlad    4\n",
       "Rus      kaz    3\n",
       "Rus     ryaz    2\n",
       "usa     alab    8\n",
       "usa       NY    5\n",
       "usa     Vash    4"
      ]
     },
     "execution_count": 579,
     "metadata": {},
     "output_type": "execute_result"
    }
   ],
   "source": [
    "result"
   ]
  },
  {
   "cell_type": "code",
   "execution_count": null,
   "metadata": {},
   "outputs": [],
   "source": []
  },
  {
   "cell_type": "code",
   "execution_count": null,
   "metadata": {},
   "outputs": [],
   "source": []
  },
  {
   "cell_type": "code",
   "execution_count": null,
   "metadata": {},
   "outputs": [],
   "source": []
  }
 ],
 "metadata": {
  "kernelspec": {
   "display_name": "Python 3",
   "language": "python",
   "name": "python3"
  },
  "language_info": {
   "codemirror_mode": {
    "name": "ipython",
    "version": 3
   },
   "file_extension": ".py",
   "mimetype": "text/x-python",
   "name": "python",
   "nbconvert_exporter": "python",
   "pygments_lexer": "ipython3",
   "version": "3.7.4"
  }
 },
 "nbformat": 4,
 "nbformat_minor": 4
}
